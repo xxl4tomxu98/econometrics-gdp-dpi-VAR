{
 "cells": [
  {
   "cell_type": "markdown",
   "metadata": {},
   "source": [
    "Latent Factor DCMM Analysis: Dynamic Count Mixture Model\n",
    "\n",
    "A Dynamic Count Mixture Model (DCMM) is the combination of Bernoulli and Poisson DGLMs. The Bernoulli DGLM models the probability of a zero outcome, while the Poisson models the outcome, conditional on it being non-zero (Berry and West, 2019)\n",
    "\n",
    "A DCMM is useful to capture a higher prevalence of  outcomes than in a standard Poisson DGLM.\n",
    "\n",
    "Latent Factors\n",
    "\n",
    "The second concept is the use of latent factors for multiscale modeling. This example features simulated data from a retail sales setting. There is data for an item, and also for total sales at the store. The total sales are smoother and more predictable than the item level sales. A model is fit to the total sales which includes a day-of-week seasonal effect. This seasonal effect is extracted from the model on total sales, and used as a predictor in the item level model.\n",
    "\n",
    "Modeling effects at different levels of a hierarchy - aka multiscale modeling - can improve forecast accuracy, because the sales of an individual can be very noisy, making it difficult to learn accurate patterns.\n",
    "\n",
    "Copula Forecasting\n",
    "\n",
    "The final concept is Copula forecasting. In this example we are focusing on forecasting sales 1 through 14 days into the future. To do this, we will simulate from the joint forecast distribution 1:14 days into the future. This is accomplished in an efficient manner through the use of a Copula model, which accounts for dependence in the forecasts across days."
   ]
  },
  {
   "cell_type": "code",
   "execution_count": 1,
   "metadata": {},
   "outputs": [],
   "source": [
    "import numpy as np\n",
    "import pandas as pd\n",
    "import matplotlib.pyplot as plt"
   ]
  },
  {
   "cell_type": "code",
   "execution_count": 2,
   "metadata": {},
   "outputs": [],
   "source": [
    "from pybats.analysis import analysis, analysis_dcmm\n",
    "from pybats.latent_factor import Y_lf, seas_weekly_lf, hol_lf, multi_latent_factor\n",
    "from pybats.shared import load_dcmm_latent_factor_example\n",
    "from pandas.tseries.holiday import USFederalHolidayCalendar\n",
    "from pybats.plot import plot_data_forecast, ax_style\n",
    "from pybats.point_forecast import median\n",
    "from pybats.loss_functions import MAD"
   ]
  },
  {
   "cell_type": "markdown",
   "metadata": {},
   "source": [
    "We start by loading the simulated retail sales data: The dataframe 'totaldata' has the total daily sales in a store, along with a predictor, which represents a measure of average price. The dataframe 'data' has the sales of a single item, and along with a predictor which represents the daily change in price."
   ]
  },
  {
   "cell_type": "code",
   "execution_count": 3,
   "metadata": {},
   "outputs": [
    {
     "name": "stdout",
     "output_type": "stream",
     "text": [
      "dict_keys(['totaldata', 'data'])\n",
      "1462\n"
     ]
    },
    {
     "data": {
      "text/html": [
       "<div>\n",
       "<style scoped>\n",
       "    .dataframe tbody tr th:only-of-type {\n",
       "        vertical-align: middle;\n",
       "    }\n",
       "\n",
       "    .dataframe tbody tr th {\n",
       "        vertical-align: top;\n",
       "    }\n",
       "\n",
       "    .dataframe thead th {\n",
       "        text-align: right;\n",
       "    }\n",
       "</style>\n",
       "<table border=\"1\" class=\"dataframe\">\n",
       "  <thead>\n",
       "    <tr style=\"text-align: right;\">\n",
       "      <th></th>\n",
       "      <th>Y</th>\n",
       "      <th>X</th>\n",
       "    </tr>\n",
       "  </thead>\n",
       "  <tbody>\n",
       "    <tr>\n",
       "      <th>2014-06-01</th>\n",
       "      <td>5.613128</td>\n",
       "      <td>-0.133124</td>\n",
       "    </tr>\n",
       "    <tr>\n",
       "      <th>2014-06-02</th>\n",
       "      <td>5.602119</td>\n",
       "      <td>-0.070102</td>\n",
       "    </tr>\n",
       "    <tr>\n",
       "      <th>2014-06-03</th>\n",
       "      <td>5.831882</td>\n",
       "      <td>1.020901</td>\n",
       "    </tr>\n",
       "    <tr>\n",
       "      <th>2014-06-04</th>\n",
       "      <td>5.393628</td>\n",
       "      <td>2.219605</td>\n",
       "    </tr>\n",
       "    <tr>\n",
       "      <th>2014-06-05</th>\n",
       "      <td>5.267858</td>\n",
       "      <td>-0.970556</td>\n",
       "    </tr>\n",
       "  </tbody>\n",
       "</table>\n",
       "</div>"
      ],
      "text/plain": [
       "                   Y         X\n",
       "2014-06-01  5.613128 -0.133124\n",
       "2014-06-02  5.602119 -0.070102\n",
       "2014-06-03  5.831882  1.020901\n",
       "2014-06-04  5.393628  2.219605\n",
       "2014-06-05  5.267858 -0.970556"
      ]
     },
     "execution_count": 3,
     "metadata": {},
     "output_type": "execute_result"
    }
   ],
   "source": [
    "data = load_dcmm_latent_factor_example()\n",
    "print(data.keys())\n",
    "totaldata, data = data.values()\n",
    "totaldata['Y'] = np.log(totaldata['Y'] + 1)\n",
    "print(len(totaldata['Y']))\n",
    "totaldata.head()"
   ]
  },
  {
   "cell_type": "code",
   "execution_count": 4,
   "metadata": {},
   "outputs": [
    {
     "name": "stdout",
     "output_type": "stream",
     "text": [
      "1462\n"
     ]
    },
    {
     "data": {
      "text/html": [
       "<div>\n",
       "<style scoped>\n",
       "    .dataframe tbody tr th:only-of-type {\n",
       "        vertical-align: middle;\n",
       "    }\n",
       "\n",
       "    .dataframe tbody tr th {\n",
       "        vertical-align: top;\n",
       "    }\n",
       "\n",
       "    .dataframe thead th {\n",
       "        text-align: right;\n",
       "    }\n",
       "</style>\n",
       "<table border=\"1\" class=\"dataframe\">\n",
       "  <thead>\n",
       "    <tr style=\"text-align: right;\">\n",
       "      <th></th>\n",
       "      <th>Y</th>\n",
       "      <th>X</th>\n",
       "    </tr>\n",
       "  </thead>\n",
       "  <tbody>\n",
       "    <tr>\n",
       "      <th>2014-06-01</th>\n",
       "      <td>14.0</td>\n",
       "      <td>2.413448</td>\n",
       "    </tr>\n",
       "    <tr>\n",
       "      <th>2014-06-02</th>\n",
       "      <td>13.0</td>\n",
       "      <td>0.989871</td>\n",
       "    </tr>\n",
       "    <tr>\n",
       "      <th>2014-06-03</th>\n",
       "      <td>7.0</td>\n",
       "      <td>-0.489734</td>\n",
       "    </tr>\n",
       "    <tr>\n",
       "      <th>2014-06-04</th>\n",
       "      <td>34.0</td>\n",
       "      <td>-1.544868</td>\n",
       "    </tr>\n",
       "    <tr>\n",
       "      <th>2014-06-05</th>\n",
       "      <td>15.0</td>\n",
       "      <td>1.639670</td>\n",
       "    </tr>\n",
       "  </tbody>\n",
       "</table>\n",
       "</div>"
      ],
      "text/plain": [
       "               Y         X\n",
       "2014-06-01  14.0  2.413448\n",
       "2014-06-02  13.0  0.989871\n",
       "2014-06-03   7.0 -0.489734\n",
       "2014-06-04  34.0 -1.544868\n",
       "2014-06-05  15.0  1.639670"
      ]
     },
     "execution_count": 4,
     "metadata": {},
     "output_type": "execute_result"
    }
   ],
   "source": [
    "print(len(data['Y']))\n",
    "data.head()"
   ]
  },
  {
   "cell_type": "code",
   "execution_count": 5,
   "metadata": {},
   "outputs": [],
   "source": [
    "#Define hyper parameters\n",
    "rho = .2\n",
    "k = 14 # Number of days ahead that we will forecast\n",
    "nsamps = 100\n",
    "prior_length = 21\n",
    "holidays=USFederalHolidayCalendar.rules"
   ]
  },
  {
   "cell_type": "markdown",
   "metadata": {},
   "source": [
    "Next, we define the window of time that we want to forecast over. For each day within this time period, the model will sample from the path (joint) forecast distribution 1:k days into the future."
   ]
  },
  {
   "cell_type": "code",
   "execution_count": 6,
   "metadata": {},
   "outputs": [],
   "source": [
    "# Define forecast range for final year of data\n",
    "T = len(totaldata)\n",
    "forecast_end_date = totaldata.index[-k]\n",
    "forecast_start_date = forecast_end_date - pd.DateOffset(days=365)"
   ]
  },
  {
   "cell_type": "markdown",
   "metadata": {},
   "source": [
    "The first analysis is run on the 'totaldata', which is used to learn a latent factor. In this case, we fit a normal DLM to the log of total sales in order to learn the weekly season effect, which is stored in the latent factor."
   ]
  },
  {
   "cell_type": "code",
   "execution_count": 7,
   "metadata": {},
   "outputs": [
    {
     "name": "stdout",
     "output_type": "stream",
     "text": [
      "beginning forecasting\n"
     ]
    }
   ],
   "source": [
    "# Get multiscale signal (a latent factor) from higher level log-normal model\n",
    "latent_factors = analysis(totaldata['Y'].values, totaldata['X'].values, k,\n",
    "                          forecast_start_date, forecast_end_date, dates=totaldata.index,\n",
    "                          seasPeriods=[7], seasHarmComponents=[[1,2,3]],\n",
    "                          holidays=holidays, family=\"normal\", ret=['new_latent_factors'],\n",
    "                          new_latent_factors= [Y_lf, seas_weekly_lf, hol_lf],\n",
    "                          prior_length=prior_length)"
   ]
  },
  {
   "cell_type": "code",
   "execution_count": 8,
   "metadata": {},
   "outputs": [
    {
     "data": {
      "text/plain": [
       "[1, 7, 11]"
      ]
     },
     "execution_count": 8,
     "metadata": {},
     "output_type": "execute_result"
    }
   ],
   "source": [
    "#We now have a list of the 3 latent factors, which have been populated by the model.\n",
    "#We can see their respective dimensions below:\n",
    "[lf.p for lf in latent_factors]"
   ]
  },
  {
   "cell_type": "markdown",
   "metadata": {},
   "source": [
    "The first latent factor is Y_lf, which stores both the actual total sales and the forecast total sales. The second is seas_weekly_lf, which is a 7−dimensional vector. Each day, the element for today is populated with the estimated seasonal effect, while the other 6 values are set to 0. Finally, we defined 10 holidays. This latent factor is only populated on the holidays themselves, so it is mostly just 0."
   ]
  },
  {
   "cell_type": "code",
   "execution_count": 9,
   "metadata": {},
   "outputs": [
    {
     "name": "stdout",
     "output_type": "stream",
     "text": [
      "Total Sales mean: 5.56\n",
      "Weekly Seasonal mean: [ 0.    0.    0.    0.   -0.06  0.    0.  ]\n",
      "Holiday mean: [0. 0. 0. 0. 0. 0. 0. 0. 0. 0. 0.]\n"
     ]
    }
   ],
   "source": [
    "#We can get the update mean for each latent factor at any given date:\n",
    "latent_factor_names = ['Total Sales', 'Weekly Seasonal', 'Holiday']\n",
    "for lf, name in zip(latent_factors, latent_factor_names):\n",
    "    print(name + ' mean:', lf.get_lf(forecast_start_date)[0].round(2))"
   ]
  },
  {
   "cell_type": "code",
   "execution_count": 10,
   "metadata": {},
   "outputs": [
    {
     "name": "stdout",
     "output_type": "stream",
     "text": [
      "Total Sales forecast mean:  [5.42 5.65 5.76 5.56 5.39 5.36 5.35 5.43 5.63 5.8  5.13 5.38 5.36 5.35]\n"
     ]
    }
   ],
   "source": [
    "#And also the forecast mean for any date in the forecast window. Here are the 1:14 day ahead forecasts for the total sales:\n",
    "print(latent_factor_names[0] + ' forecast mean: ', np.array(latent_factors[0].get_lf_forecast(forecast_start_date)[0]).round(2))"
   ]
  },
  {
   "cell_type": "code",
   "execution_count": 11,
   "metadata": {},
   "outputs": [
    {
     "name": "stdout",
     "output_type": "stream",
     "text": [
      "Weekly Seasonal forecast mean: \n",
      "[[ 0.    0.    0.    0.   -0.06  0.    0.  ]\n",
      " [ 0.    0.    0.    0.    0.    0.15  0.  ]\n",
      " [ 0.    0.    0.    0.    0.    0.    0.29]\n",
      " [ 0.03  0.    0.    0.    0.    0.    0.  ]\n",
      " [ 0.   -0.12  0.    0.    0.    0.    0.  ]\n",
      " [ 0.    0.   -0.13  0.    0.    0.    0.  ]\n",
      " [ 0.    0.    0.   -0.15  0.    0.    0.  ]\n",
      " [ 0.    0.    0.    0.   -0.06  0.    0.  ]\n",
      " [ 0.    0.    0.    0.    0.    0.15  0.  ]\n",
      " [ 0.    0.    0.    0.    0.    0.    0.29]\n",
      " [ 0.03  0.    0.    0.    0.    0.    0.  ]\n",
      " [ 0.   -0.12  0.    0.    0.    0.    0.  ]\n",
      " [ 0.    0.   -0.13  0.    0.    0.    0.  ]\n",
      " [ 0.    0.    0.   -0.15  0.    0.    0.  ]]\n"
     ]
    }
   ],
   "source": [
    "#The 14−day ahead forecast of the seasonal effects makes it clear how the latent factor works:\n",
    "print(latent_factor_names[1] + ' forecast mean: ')\n",
    "print(np.array(latent_factors[1].get_lf_forecast(forecast_start_date)[0]).round(2))"
   ]
  },
  {
   "cell_type": "code",
   "execution_count": 12,
   "metadata": {},
   "outputs": [
    {
     "name": "stdout",
     "output_type": "stream",
     "text": [
      "Total dimension : 19\n"
     ]
    }
   ],
   "source": [
    "#The same output can be created for the holiday latent factor, but it will be all 0's except\n",
    "#when there is a holiday in the next 14 days. Now let's combine these latent factors into a \n",
    "#single multi_latent_factor, and put them to use in an analysis of the individual item sales. \n",
    "#First we create the multi latent factor:\n",
    "multi_lf = multi_latent_factor(latent_factors[:3])\n",
    "print('Total dimension :', multi_lf.p)"
   ]
  },
  {
   "cell_type": "markdown",
   "metadata": {},
   "source": [
    "First analysis we run a standard analysis, while passing in the multi_lf as our latent factor. We're setting the discount factor on the latent factor component as dellf=1, which means no discounting. This is because the weekly seasonal pattern and holidays are \"0\" so often. Another option would be to define dellf as an 18−dimensional vector, with a separate discount factor for each element of the latent factor."
   ]
  },
  {
   "cell_type": "code",
   "execution_count": 26,
   "metadata": {},
   "outputs": [
    {
     "name": "stdout",
     "output_type": "stream",
     "text": [
      "beginning forecasting\n"
     ]
    }
   ],
   "source": [
    "nsamps = 1000\n",
    "\"\"\" mod, forecast_samples = analysis(data['Y'].values, data['X'].values, k,\n",
    "                                 forecast_start_date, forecast_end_date,\n",
    "                                 nsamps=nsamps,\n",
    "                                 latent_factor = multi_lf,\n",
    "                                 dates=data.index,\n",
    "                                 prior_length = prior_length,\n",
    "                                 s0=5, dellf=1)\n",
    "forecast = median(forecast_samples) \"\"\""
   ]
  },
  {
   "cell_type": "markdown",
   "metadata": {},
   "source": [
    "The second analysis fits a DCMM to 'data', which is the simulated sales of a single item. The \"weekly seasonal\" latent factor we derived above is used as a predictive signal for the sales of this individual item. On each day within the forecasting period, a copula is used to draw joint forecast samples 1:k days ahead."
   ]
  },
  {
   "cell_type": "code",
   "execution_count": 13,
   "metadata": {},
   "outputs": [
    {
     "name": "stdout",
     "output_type": "stream",
     "text": [
      "beginning forecasting\n"
     ]
    }
   ],
   "source": [
    "# Update and forecast the model\n",
    "mod, forecast_samples = analysis_dcmm(data['Y'].values, data['X'].values.reshape(-1,1), k,\n",
    "                                      forecast_start_date, forecast_end_date,\n",
    "                                      prior_length=prior_length, nsamps=nsamps, rho=rho,\n",
    "                                      latent_factor=latent_factors[1], dates=totaldata.index)\n",
    "forecast = median(forecast_samples)"
   ]
  },
  {
   "cell_type": "markdown",
   "metadata": {},
   "source": [
    "Finally we can examine the results, first by plotting both the 1- and 14- step ahead forecasts. The point forecast is the median (blue line), and the forecast samples provide easy access to 95% credible intervals."
   ]
  },
  {
   "cell_type": "code",
   "execution_count": 29,
   "metadata": {},
   "outputs": [
    {
     "data": {
      "image/png": "[encoded data removed]",
      "text/plain": [
       "<Figure size 576x288 with 1 Axes>"
      ]
     },
     "metadata": {
      "needs_background": "light"
     },
     "output_type": "display_data"
    }
   ],
   "source": [
    "# Plotting 1-step ahead forecasts\n",
    "horizon = 1 \n",
    "plot_length = 50\n",
    "fig, ax = plt.subplots(figsize=(8,4))\n",
    "start_date = forecast_end_date + pd.DateOffset(horizon - plot_length)\n",
    "end_date = forecast_end_date + pd.DateOffset(horizon - 1)\n",
    "ax = plot_data_forecast(fig, ax, data.loc[start_date:end_date].Y,\n",
    "                        forecast[-plot_length:,horizon - 1],\n",
    "                        forecast_samples[:,-plot_length:,horizon - 1],\n",
    "                        data.loc[start_date:end_date].index,\n",
    "                        linewidth = 2)\n",
    "ax = ax_style(ax, legend=['Observations', 'Forecast', 'Credible Interval'])"
   ]
  },
  {
   "cell_type": "code",
   "execution_count": 30,
   "metadata": {},
   "outputs": [
    {
     "data": {
      "image/png": "[encoded data removed]",
      "text/plain": [
       "<Figure size 576x288 with 1 Axes>"
      ]
     },
     "metadata": {
      "needs_background": "light"
     },
     "output_type": "display_data"
    }
   ],
   "source": [
    "# Plotting 14-step ahead forecasts\n",
    "horizon = 14\n",
    "plot_length = 50\n",
    "fig, ax = plt.subplots(figsize=(8,4))\n",
    "start_date = forecast_end_date + pd.DateOffset(horizon - plot_length)\n",
    "end_date = forecast_end_date + pd.DateOffset(horizon - 1)\n",
    "ax = plot_data_forecast(fig, ax, data.loc[start_date:end_date].Y,\n",
    "                        forecast[-plot_length:,horizon - 1],\n",
    "                        forecast_samples[:,-plot_length:,horizon - 1],\n",
    "                        data.loc[start_date:end_date].index,\n",
    "                        linewidth = 2)\n",
    "ax = ax_style(ax, legend=['Observations', 'Forecast', 'Credible Interval'])"
   ]
  },
  {
   "cell_type": "markdown",
   "metadata": {},
   "source": [
    "To evaluate the point forecasts, we can look at the mean absolute deviation (MAD) between the forecast median and the observations across forecast horizons. Interestingly, there is only a small increase in the MAD for longer forecast horizons."
   ]
  },
  {
   "cell_type": "code",
   "execution_count": 31,
   "metadata": {},
   "outputs": [
    {
     "data": {
      "text/plain": [
       "[2.871584699453552,\n",
       " 2.8456284153005464,\n",
       " 2.887978142076503,\n",
       " 2.877049180327869,\n",
       " 2.8551912568306013,\n",
       " 2.859289617486339,\n",
       " 2.866120218579235,\n",
       " 2.8743169398907105,\n",
       " 2.859289617486339,\n",
       " 2.877049180327869,\n",
       " 2.878415300546448,\n",
       " 2.862021857923497,\n",
       " 2.900273224043716,\n",
       " 2.8948087431693987]"
      ]
     },
     "execution_count": 31,
     "metadata": {},
     "output_type": "execute_result"
    }
   ],
   "source": [
    "# Mean absolute deviation at increasing forecast horizons\n",
    "horizons = list(range(1, k+1))\n",
    "list(map(lambda k: MAD(data.loc[forecast_start_date + pd.DateOffset(k-1):forecast_end_date + pd.DateOffset(k-1)].Y,\n",
    "                      forecast[:,k-1]),\n",
    "         horizons))"
   ]
  }
 ],
 "metadata": {
  "interpreter": {
   "hash": "e70966c555988d806fbf33aba289056abaf362856512e47686ded46e4756b9ad"
  },
  "kernelspec": {
   "display_name": "Python 3.8.9 ('venv': venv)",
   "language": "python",
   "name": "python3"
  },
  "language_info": {
   "codemirror_mode": {
    "name": "ipython",
    "version": 3
   },
   "file_extension": ".py",
   "mimetype": "text/x-python",
   "name": "python",
   "nbconvert_exporter": "python",
   "pygments_lexer": "ipython3",
   "version": "3.8.9"
  },
  "orig_nbformat": 4
 },
 "nbformat": 4,
 "nbformat_minor": 2
}
