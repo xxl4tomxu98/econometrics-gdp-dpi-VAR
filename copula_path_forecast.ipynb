{
 "cells": [
  {
   "cell_type": "markdown",
   "metadata": {},
   "source": [
    "Copula Model Simulation Study in Path Forecasting\n",
    "Compare computational time of the copula model to standard path forecasting (via sequential simulation) as a function of: Samples drawn from the forecast distribution (nsamps)\n",
    "Forecast horizon (k) State vector size (p)\n",
    "Test standard path forecasting both with and without the novel interpolation to speed up the variational Bayes step. Compare resulting forecast distributions to ensure that they match."
   ]
  },
  {
   "cell_type": "code",
   "execution_count": 1,
   "metadata": {},
   "outputs": [],
   "source": [
    "# Import libraries\n",
    "import matplotlib\n",
    "from pybats.conjugates import pois_conjugate_params\n",
    "from pybats.forecast import forecast_aR\n",
    "from pybats.plot import ax_style\n",
    "matplotlib.use('Agg')\n",
    "import numpy as np\n",
    "import pandas as pd\n",
    "from scipy import stats\n",
    "import seaborn as sns\n",
    "import matplotlib.pyplot as plt\n",
    "import random\n",
    "import cProfile, pstats, io\n",
    "import time\n",
    "from pybats.dglm import pois_dglm, bern_dglm\n",
    "import pandas as pd\n",
    "%matplotlib inline"
   ]
  },
  {
   "cell_type": "code",
   "execution_count": 2,
   "metadata": {},
   "outputs": [],
   "source": [
    "# Define timing function and simulation from Poisson DGLM\n",
    "def time_func(f, nruns, **kwargs):\n",
    "    start = time.time()\n",
    "    for i in range(nruns):\n",
    "        f(**kwargs)\n",
    "    end = time.time()    \n",
    "    return (end-start)/nruns\n",
    "\n",
    "def time_path_forecast(p, k, nsamps, repetitions = 1, copula=True, interpolate=True):\n",
    "    a0 = np.ones(p)\n",
    "    R0 = np.diag(0.1 * np.ones(p))\n",
    "    \n",
    "    pmod = pois_dglm(a0 = a0, R0 = R0,\n",
    "                 ntrend = 1,\n",
    "                 nregn = p - 1,\n",
    "                 deltrend = .99,\n",
    "                 delregn = .99,\n",
    "                 interpolate=interpolate)    \n",
    "    if p > 1:\n",
    "        X = np.random.normal(0, 0.1, [k, p-1])\n",
    "    else:\n",
    "        X = None\n",
    "                    \n",
    "    time = time_func(pmod.forecast_path, nruns=repetitions, k = k,\n",
    "                     X = X, nsamps = nsamps, copula=copula)    \n",
    "    return time"
   ]
  },
  {
   "cell_type": "code",
   "execution_count": 3,
   "metadata": {},
   "outputs": [
    {
     "name": "stdout",
     "output_type": "stream",
     "text": [
      "k array: [5, 10, 20]\n",
      "p array: [5, 10, 20]\n",
      "nsamps array: [   1   10   50  100  500 1000]\n"
     ]
    }
   ],
   "source": [
    "#Define empty dataset to hold results\n",
    "kps = [5, 10, 20]\n",
    "nsamps = np.array([1, 10, 50, 100, 500, 1000])\n",
    "print('k array: ' + str(kps))\n",
    "print('p array: ' + str(kps))\n",
    "print('nsamps array: ' + str(nsamps))\n",
    "\n",
    "rows = []\n",
    "i = 0\n",
    "for k in kps:\n",
    "    p = k\n",
    "    for n in nsamps:\n",
    "        rows.append(pd.DataFrame({\n",
    "            'k':k,\n",
    "            'p':p,\n",
    "            'nsamps':n,\n",
    "            'standard_time':0.0,\n",
    "            'standard_time_interp':0.0,\n",
    "            'copula_time_interp':0.0}, index=[i]))\n",
    "        i += 1            \n",
    "res = pd.concat(rows, axis=0)"
   ]
  },
  {
   "cell_type": "code",
   "execution_count": 4,
   "metadata": {},
   "outputs": [
    {
     "name": "stdout",
     "output_type": "stream",
     "text": [
      "1\n",
      "2\n",
      "3\n",
      "4\n",
      "5\n",
      "6\n",
      "7\n",
      "8\n",
      "9\n",
      "10\n",
      "11\n",
      "12\n",
      "13\n",
      "14\n",
      "15\n",
      "16\n",
      "17\n",
      "18\n"
     ]
    }
   ],
   "source": [
    "# Run Simulation\n",
    "i = 0\n",
    "for k in kps:\n",
    "    p = k\n",
    "    for n in nsamps:\n",
    "        if 0 < n < 10:\n",
    "            repetitions = 32\n",
    "        if 10 <= n < 50:\n",
    "            repetitions = 32\n",
    "        if 50 <= n < 100:\n",
    "            repetitions = 16\n",
    "        if 100 <= n < 1000:\n",
    "            repetitions = 10\n",
    "        if 1000 <= n < 10000:\n",
    "            repetitions = 5\n",
    "        res.loc[i,'standard_time'] = time_path_forecast(p, k, n, repetitions=repetitions, copula=False, interpolate=False)\n",
    "        res.loc[i,'standard_time_interp'] = time_path_forecast(p, k, n, repetitions=repetitions, copula=False, interpolate=True)\n",
    "        res.loc[i,'copula_time_interp'] = time_path_forecast(p, k, n, repetitions=repetitions, copula=True, interpolate=True)       \n",
    "        i += 1\n",
    "        print(i)        \n",
    "res['speedup_interp'] = res['standard_time_interp'] / res['copula_time_interp']\n",
    "res['speedup_total'] = res['standard_time'] / res['copula_time_interp']"
   ]
  },
  {
   "cell_type": "code",
   "execution_count": 5,
   "metadata": {},
   "outputs": [
    {
     "data": {
      "text/html": [
       "<div>\n",
       "<style scoped>\n",
       "    .dataframe tbody tr th:only-of-type {\n",
       "        vertical-align: middle;\n",
       "    }\n",
       "\n",
       "    .dataframe tbody tr th {\n",
       "        vertical-align: top;\n",
       "    }\n",
       "\n",
       "    .dataframe thead th {\n",
       "        text-align: right;\n",
       "    }\n",
       "</style>\n",
       "<table border=\"1\" class=\"dataframe\">\n",
       "  <thead>\n",
       "    <tr style=\"text-align: right;\">\n",
       "      <th></th>\n",
       "      <th>k</th>\n",
       "      <th>p</th>\n",
       "      <th>nsamps</th>\n",
       "      <th>standard_time</th>\n",
       "      <th>standard_time_interp</th>\n",
       "      <th>copula_time_interp</th>\n",
       "      <th>speedup_interp</th>\n",
       "      <th>speedup_total</th>\n",
       "    </tr>\n",
       "  </thead>\n",
       "  <tbody>\n",
       "    <tr>\n",
       "      <th>5</th>\n",
       "      <td>5</td>\n",
       "      <td>5</td>\n",
       "      <td>1000</td>\n",
       "      <td>3.61</td>\n",
       "      <td>0.74</td>\n",
       "      <td>0.01</td>\n",
       "      <td>89.65</td>\n",
       "      <td>435.29</td>\n",
       "    </tr>\n",
       "    <tr>\n",
       "      <th>11</th>\n",
       "      <td>10</td>\n",
       "      <td>10</td>\n",
       "      <td>1000</td>\n",
       "      <td>7.66</td>\n",
       "      <td>1.63</td>\n",
       "      <td>0.02</td>\n",
       "      <td>99.79</td>\n",
       "      <td>470.11</td>\n",
       "    </tr>\n",
       "    <tr>\n",
       "      <th>17</th>\n",
       "      <td>20</td>\n",
       "      <td>20</td>\n",
       "      <td>1000</td>\n",
       "      <td>15.71</td>\n",
       "      <td>3.30</td>\n",
       "      <td>0.07</td>\n",
       "      <td>45.68</td>\n",
       "      <td>217.45</td>\n",
       "    </tr>\n",
       "  </tbody>\n",
       "</table>\n",
       "</div>"
      ],
      "text/plain": [
       "     k   p  nsamps  standard_time  standard_time_interp  copula_time_interp  \\\n",
       "5    5   5    1000           3.61                  0.74                0.01   \n",
       "11  10  10    1000           7.66                  1.63                0.02   \n",
       "17  20  20    1000          15.71                  3.30                0.07   \n",
       "\n",
       "    speedup_interp  speedup_total  \n",
       "5            89.65         435.29  \n",
       "11           99.79         470.11  \n",
       "17           45.68         217.45  "
      ]
     },
     "execution_count": 5,
     "metadata": {},
     "output_type": "execute_result"
    }
   ],
   "source": [
    "# Save / load simulation results\n",
    "pd.to_pickle(res, 'sim_study_data')\n",
    "res = pd.read_pickle('sim_study_data')\n",
    "res[res.nsamps == 1000].round(2)"
   ]
  },
  {
   "cell_type": "code",
   "execution_count": 6,
   "metadata": {},
   "outputs": [
    {
     "data": {
      "text/plain": [
       "<matplotlib.legend.Legend at 0x7f93b2891f70>"
      ]
     },
     "execution_count": 6,
     "metadata": {},
     "output_type": "execute_result"
    },
    {
     "data": {
      "image/png": "[encoded data removed]",
      "text/plain": [
       "<Figure size 576x288 with 2 Axes>"
      ]
     },
     "metadata": {
      "needs_background": "light"
     },
     "output_type": "display_data"
    }
   ],
   "source": [
    "#Simulation Visualizations\n",
    "#Copula Model Speedup\n",
    "## Plot the computational speedup results\n",
    "fig, axes = plt.subplots(ncols=2, figsize=(8, 4))\n",
    "\n",
    "f1 = (res.k == 5) & (res.p == 5)\n",
    "f2 = (res.k == 10) & (res.p == 10)\n",
    "f3 = (res.k == 20) & (res.p == 20)\n",
    "axes[0].plot(res['nsamps'][f1], res['speedup_total'][f1], color='tab:blue', label='k = p = 5')\n",
    "axes[0].plot(res['nsamps'][f2], res['speedup_total'][f2], color='tab:orange', label='k = p = 10', linestyle='dashed')\n",
    "axes[0].plot(res['nsamps'][f3], res['speedup_total'][f3], color='tab:green', label='k = p = 20', linestyle='dotted')\n",
    "axes[0].set_ylabel('Standard Run Time / Copula Run Time')\n",
    "axes[0].set_xlabel('Monte Carlo Sample Size')\n",
    "\n",
    "axes[0].legend()\n",
    "\n",
    "axes[1].plot(res['nsamps'][f1], res['speedup_interp'][f1], color='tab:blue', label='k = p = 5')\n",
    "axes[1].plot(res['nsamps'][f2], res['speedup_interp'][f2], color='tab:orange', label='k = p = 10', linestyle='dashed')\n",
    "axes[1].plot(res['nsamps'][f3], res['speedup_interp'][f3], color='tab:green', label='k = p = 20', linestyle='dotted')\n",
    "axes[1].set_ylabel('Standard Run Time / Copula Run Time')\n",
    "axes[1].set_xlabel('Monte Carlo Sample Size')\n",
    "\n",
    "axes[1].legend()"
   ]
  },
  {
   "cell_type": "code",
   "execution_count": 8,
   "metadata": {},
   "outputs": [
    {
     "data": {
      "image/png": "[encoded data removed]",
      "text/plain": [
       "<Figure size 576x288 with 2 Axes>"
      ]
     },
     "metadata": {
      "needs_background": "light"
     },
     "output_type": "display_data"
    }
   ],
   "source": [
    "#Distribution Comparison between Copula-based Forecasting and Standard Path Forecasting\n",
    "#Sample from joint (path) forecast distribution using copula-based forecasting and standard sequential simulation\n",
    "#Take two example runs p=k=20 and p=k=5, both with nsamps=1000\n",
    "\n",
    "def sim_study_path_forecasting(p, k, n=10000):\n",
    "    a0 = np.ones(p)\n",
    "    R0 = np.diag(0.1 * np.ones(p))\n",
    "    pmod = pois_dglm(a0 = a0, R0 = R0,\n",
    "                 ntrend = 1,\n",
    "                 nregn = p - 1,\n",
    "                 deltrend = .99,\n",
    "                 delregn = .99,\n",
    "                 interpolate=True)\n",
    "    if p > 1:\n",
    "        X = np.random.normal(0, 0.1, [k, p-1])\n",
    "    else:\n",
    "        X = None\n",
    "    path_forecast = np.sort(pmod.forecast_path(k, X=X[:k].copy(), nsamps=n, copula=False).sum(axis=1))\n",
    "    path_forecast_copula = np.sort(pmod.forecast_path(k, X=X[:k].copy(), nsamps=n, copula=True).sum(axis=1))\n",
    "    \n",
    "    corr = pmod.forecast_path(k, X=X[:k].copy(), nsamps=n, copula=True, return_cov=True)\n",
    "\n",
    "    tmp = np.sqrt(corr.diagonal()).reshape(-1,1) @ np.sqrt(corr.diagonal()).reshape(-1,1).T\n",
    "\n",
    "    corr = corr / tmp\n",
    "    \n",
    "    return path_forecast, path_forecast_copula, corr\n",
    "\n",
    "\n",
    "path_forecast_20, path_forecast_copula_20, corr_20 = sim_study_path_forecasting(20, 20, 10000)\n",
    "path_forecast_5, path_forecast_copula_5, corr_5 = sim_study_path_forecasting(5, 5, 10000)\n",
    "\n",
    "# Plot comparison of forecast distribution from the two methods\n",
    "fig, axes = plt.subplots(ncols=2, figsize=(8, 4))\n",
    "axes[0].scatter(path_forecast_5, path_forecast_copula_5)\n",
    "axes[0].plot(np.array([0, np.max(path_forecast_5)]), np.array([0, np.max(path_forecast_5)]), color='r')\n",
    "axes[1].scatter(path_forecast_20, path_forecast_copula_20)\n",
    "axes[1].plot(np.array([0, np.max(path_forecast_20)]), np.array([0, np.max(path_forecast_20)]), color='r')\n",
    "axes[0] = ax_style(axes[0], xlabel='Path Forecast Total', ylabel='Copula Forecast Total')\n",
    "axes[1] = ax_style(axes[1], xlabel='Path Forecast Total', ylabel='Copula Forecast Total')"
   ]
  },
  {
   "cell_type": "code",
   "execution_count": 9,
   "metadata": {},
   "outputs": [
    {
     "data": {
      "image/png": "[encoded data removed]",
      "text/plain": [
       "<Figure size 288x288 with 2 Axes>"
      ]
     },
     "metadata": {
      "needs_background": "light"
     },
     "output_type": "display_data"
    }
   ],
   "source": [
    "# Plot correlation matrix from simulation of k=20 forecast horizon\n",
    "labels = [str(i) for i in range(1, 21)]\n",
    "fig, axes = plt.subplots(nrows=1, ncols=1, figsize=(4, 4))\n",
    "axes = sns.heatmap(corr_20, vmin=0, vmax=1, center = 0,\n",
    "                   cmap=sns.diverging_palette(10, 240, as_cmap=True),\n",
    "                   cbar=True,\n",
    "                   square=True, ax=axes,\n",
    "                   xticklabels=labels,\n",
    "                   yticklabels=labels)\n",
    "axes.set_xticklabels(labels = labels, rotation=45, size=9)\n",
    "axes.set_yticklabels(labels = labels, rotation=0, size=9)\n",
    "plt.tight_layout()"
   ]
  }
 ],
 "metadata": {
  "interpreter": {
   "hash": "e70966c555988d806fbf33aba289056abaf362856512e47686ded46e4756b9ad"
  },
  "kernelspec": {
   "display_name": "Python 3.8.9 ('venv': venv)",
   "language": "python",
   "name": "python3"
  },
  "language_info": {
   "codemirror_mode": {
    "name": "ipython",
    "version": 3
   },
   "file_extension": ".py",
   "mimetype": "text/x-python",
   "name": "python",
   "nbconvert_exporter": "python",
   "pygments_lexer": "ipython3",
   "version": "3.8.9"
  },
  "orig_nbformat": 4
 },
 "nbformat": 4,
 "nbformat_minor": 2
}
